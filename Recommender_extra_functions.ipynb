{
 "cells": [
  {
   "cell_type": "code",
   "execution_count": 1,
   "metadata": {
    "collapsed": false
   },
   "outputs": [],
   "source": [
    "#lets import the libraries we will use\n",
    "from scikits.crab import datasets\n",
    "from sklearn.datasets.base import Bunch\n",
    "import numpy as np"
   ]
  },
  {
   "cell_type": "code",
   "execution_count": 2,
   "metadata": {
    "collapsed": false
   },
   "outputs": [
    {
     "name": "stdout",
     "output_type": "stream",
     "text": [
      "The history saving thread hit an unexpected error (OperationalError('disk I/O error',)).History will not be written to the database.\n"
     ]
    }
   ],
   "source": [
    "import sqlalchemy\n",
    "import pyodbc\n",
    "\n",
    "#to hold the data from our database\n",
    "movies_data = []\n",
    "try:\n",
    " \n",
    "    import urllib\n",
    "    params = urllib.quote_plus(\"DRIVER={SQL Server Native Client 11.0};SERVER=.\\MSSQLSERVER_ENT;DATABASE=Antrak;Trusted_Connection=yes;\")\n",
    " \n",
    "    engine = sqlalchemy.create_engine('mssql+pyodbc:///?odbc_connect=%s\"' % params)\n",
    "    \n",
    "    #insert customer and country searched into database\n",
    "    engine.execute(\"insert into antrak.dbo.recommender_customers_tb values ('John','UK'), ('John','UK'),('John','UK'), ('Mike','US')\")\n",
    "    \n",
    "    result = engine.execute(\"select * from antrak.dbo.recommender_rankings\")\n",
    "    \n",
    "    for row in result:\n",
    "        movies_data.append(row[0:3])\n",
    "        \n",
    "except (RuntimeError, TypeError, NameError):\n",
    "    print('Error in Conneccting')\n",
    "    print(RuntimeError, TypeError, NameError)\n"
   ]
  },
  {
   "cell_type": "code",
   "execution_count": 3,
   "metadata": {
    "collapsed": false
   },
   "outputs": [],
   "source": [
    "#print(movies_data)"
   ]
  },
  {
   "cell_type": "code",
   "execution_count": 4,
   "metadata": {
    "collapsed": false
   },
   "outputs": [
    {
     "data": {
      "text/plain": [
       "list"
      ]
     },
     "execution_count": 4,
     "metadata": {},
     "output_type": "execute_result"
    }
   ],
   "source": [
    "#lets check the data type of the returned data from the database\n",
    "type(movies_data)"
   ]
  },
  {
   "cell_type": "code",
   "execution_count": 5,
   "metadata": {
    "collapsed": false
   },
   "outputs": [],
   "source": [
    "#lets convert the list of tuples to array as the recommender needs\n",
    "data_m = np.asarray(movies_data)"
   ]
  },
  {
   "cell_type": "code",
   "execution_count": 6,
   "metadata": {
    "collapsed": false
   },
   "outputs": [
    {
     "data": {
      "text/plain": [
       "array([['Freya', 'LB', '2.6'],\n",
       "       ['Freya', 'LB', '2.5'],\n",
       "       ['Amelia', 'SC', '2.6'],\n",
       "       ..., \n",
       "       ['John', 'UK', '2.0'],\n",
       "       ['Elvis', 'UK', '3.0'],\n",
       "       ['John', 'US', '4.0']], \n",
       "      dtype='|S11')"
      ]
     },
     "execution_count": 6,
     "metadata": {},
     "output_type": "execute_result"
    }
   ],
   "source": [
    "#lets check the array data and format\n",
    "data_m"
   ]
  },
  {
   "cell_type": "code",
   "execution_count": 7,
   "metadata": {
    "collapsed": true
   },
   "outputs": [],
   "source": [
    "#let define a function to load the data from the array\n",
    "\n",
    "import pandas as pd\n",
    "def load_sample_data():\n",
    "\n",
    "    item_ids = []\n",
    "    user_ids = []\n",
    "    data_songs = {}\n",
    "    for user_id, item_id, rating in data_m:\n",
    "        if user_id not in user_ids:\n",
    "            user_ids.append(user_id)\n",
    "        if item_id not in item_ids:\n",
    "            item_ids.append(item_id)\n",
    "        u_ix = user_ids.index(user_id) + 1\n",
    "        i_ix = item_ids.index(item_id) + 1\n",
    "        data_songs.setdefault(u_ix, {})\n",
    "        data_songs[u_ix][i_ix] = float(rating)\n",
    "\n",
    "    data_t = []\n",
    "    for no, item_id in enumerate(item_ids):\n",
    "        data_t.append((no + 1, item_id))\n",
    "    data_titles = dict(data_t)\n",
    "\n",
    "    data_u = []\n",
    "    for no, user_id in enumerate(user_ids):\n",
    "        data_u.append((no + 1, user_id))\n",
    "    data_users = dict(data_u)\n",
    "\n",
    "    return Bunch(data=data_songs, item_ids=data_titles,\n",
    "                 #user_ids=data_users, DESCR=fdescr.read())\n",
    "                 user_ids=data_users)"
   ]
  },
  {
   "cell_type": "code",
   "execution_count": 8,
   "metadata": {
    "collapsed": false
   },
   "outputs": [],
   "source": [
    "#let's call the function and view sample data\n",
    "movies = load_sample_data()"
   ]
  },
  {
   "cell_type": "code",
   "execution_count": 9,
   "metadata": {
    "collapsed": true
   },
   "outputs": [],
   "source": [
    "#songs = datasets.load_sample_songs()"
   ]
  },
  {
   "cell_type": "code",
   "execution_count": 61,
   "metadata": {
    "collapsed": false
   },
   "outputs": [],
   "source": [
    "#lets view some sample data\n",
    "import pprint ## to make printed items clearer\n",
    "#pprint.pprint(movies.data)"
   ]
  },
  {
   "cell_type": "code",
   "execution_count": 60,
   "metadata": {
    "collapsed": false
   },
   "outputs": [],
   "source": [
    "#pprint.pprint(movies.user_ids)"
   ]
  },
  {
   "cell_type": "code",
   "execution_count": 12,
   "metadata": {
    "collapsed": false
   },
   "outputs": [
    {
     "data": {
      "text/plain": [
       "'Finley'"
      ]
     },
     "execution_count": 12,
     "metadata": {},
     "output_type": "execute_result"
    }
   ],
   "source": [
    "movies.user_ids.get(148)"
   ]
  },
  {
   "cell_type": "code",
   "execution_count": 59,
   "metadata": {
    "collapsed": false
   },
   "outputs": [],
   "source": [
    "#pprint.pprint(movies.item_ids)"
   ]
  },
  {
   "cell_type": "code",
   "execution_count": 14,
   "metadata": {
    "collapsed": false
   },
   "outputs": [],
   "source": [
    "from scikits.crab.models import MatrixPreferenceDataModel"
   ]
  },
  {
   "cell_type": "code",
   "execution_count": 15,
   "metadata": {
    "collapsed": true
   },
   "outputs": [],
   "source": [
    "#Build the model\n",
    "model = MatrixPreferenceDataModel(movies.data)"
   ]
  },
  {
   "cell_type": "code",
   "execution_count": 16,
   "metadata": {
    "collapsed": true
   },
   "outputs": [],
   "source": [
    "from scikits.crab.metrics import pearson_correlation"
   ]
  },
  {
   "cell_type": "code",
   "execution_count": 17,
   "metadata": {
    "collapsed": true
   },
   "outputs": [],
   "source": [
    "from scikits.crab.similarities import UserSimilarity"
   ]
  },
  {
   "cell_type": "code",
   "execution_count": 18,
   "metadata": {
    "collapsed": false
   },
   "outputs": [],
   "source": [
    "#Build the similarity\n",
    "similarity = UserSimilarity(model, pearson_correlation)"
   ]
  },
  {
   "cell_type": "code",
   "execution_count": 19,
   "metadata": {
    "collapsed": false
   },
   "outputs": [],
   "source": [
    "from sklearn.base import BaseEstimator\n"
   ]
  },
  {
   "cell_type": "code",
   "execution_count": 20,
   "metadata": {
    "collapsed": false
   },
   "outputs": [],
   "source": [
    "from scikits.crab.recommenders.knn import UserBasedRecommender"
   ]
  },
  {
   "cell_type": "code",
   "execution_count": 21,
   "metadata": {
    "collapsed": false
   },
   "outputs": [],
   "source": [
    "#build the user Based recommender\n",
    "recommender = UserBasedRecommender(model, similarity, with_preference=True)"
   ]
  },
  {
   "cell_type": "code",
   "execution_count": 22,
   "metadata": {
    "collapsed": false
   },
   "outputs": [
    {
     "name": "stderr",
     "output_type": "stream",
     "text": [
      "C:\\Users\\adaba\\Anaconda3\\envs\\gl-env\\lib\\site-packages\\scikits\\crab\\recommenders\\knn\\classes.py:538: VisibleDeprecationWarning: boolean index did not match indexed array along dimension 0; dimension is 20 but corresponding boolean dimension is 6\n",
      "  similarities = similarities[~np.isnan(prefs)]\n",
      "C:\\Users\\adaba\\Anaconda3\\envs\\gl-env\\lib\\site-packages\\scikits\\crab\\recommenders\\knn\\classes.py:538: VisibleDeprecationWarning: boolean index did not match indexed array along dimension 0; dimension is 20 but corresponding boolean dimension is 5\n",
      "  similarities = similarities[~np.isnan(prefs)]\n",
      "C:\\Users\\adaba\\Anaconda3\\envs\\gl-env\\lib\\site-packages\\scikits\\crab\\recommenders\\knn\\classes.py:538: VisibleDeprecationWarning: boolean index did not match indexed array along dimension 0; dimension is 20 but corresponding boolean dimension is 7\n",
      "  similarities = similarities[~np.isnan(prefs)]\n",
      "C:\\Users\\adaba\\Anaconda3\\envs\\gl-env\\lib\\site-packages\\scikits\\crab\\recommenders\\knn\\classes.py:538: VisibleDeprecationWarning: boolean index did not match indexed array along dimension 0; dimension is 20 but corresponding boolean dimension is 1\n",
      "  similarities = similarities[~np.isnan(prefs)]\n",
      "C:\\Users\\adaba\\Anaconda3\\envs\\gl-env\\lib\\site-packages\\scikits\\crab\\recommenders\\knn\\classes.py:538: VisibleDeprecationWarning: boolean index did not match indexed array along dimension 0; dimension is 20 but corresponding boolean dimension is 2\n",
      "  similarities = similarities[~np.isnan(prefs)]\n",
      "C:\\Users\\adaba\\Anaconda3\\envs\\gl-env\\lib\\site-packages\\scikits\\crab\\recommenders\\knn\\classes.py:538: VisibleDeprecationWarning: boolean index did not match indexed array along dimension 0; dimension is 20 but corresponding boolean dimension is 9\n",
      "  similarities = similarities[~np.isnan(prefs)]\n",
      "C:\\Users\\adaba\\Anaconda3\\envs\\gl-env\\lib\\site-packages\\scikits\\crab\\recommenders\\knn\\classes.py:538: VisibleDeprecationWarning: boolean index did not match indexed array along dimension 0; dimension is 20 but corresponding boolean dimension is 8\n",
      "  similarities = similarities[~np.isnan(prefs)]\n",
      "C:\\Users\\adaba\\Anaconda3\\envs\\gl-env\\lib\\site-packages\\scikits\\crab\\recommenders\\knn\\classes.py:538: VisibleDeprecationWarning: boolean index did not match indexed array along dimension 0; dimension is 20 but corresponding boolean dimension is 3\n",
      "  similarities = similarities[~np.isnan(prefs)]\n",
      "C:\\Users\\adaba\\Anaconda3\\envs\\gl-env\\lib\\site-packages\\scikits\\crab\\recommenders\\knn\\classes.py:538: VisibleDeprecationWarning: boolean index did not match indexed array along dimension 0; dimension is 20 but corresponding boolean dimension is 4\n",
      "  similarities = similarities[~np.isnan(prefs)]\n",
      "C:\\Users\\adaba\\Anaconda3\\envs\\gl-env\\lib\\site-packages\\scikits\\crab\\recommenders\\knn\\classes.py:538: VisibleDeprecationWarning: boolean index did not match indexed array along dimension 0; dimension is 20 but corresponding boolean dimension is 11\n",
      "  similarities = similarities[~np.isnan(prefs)]\n",
      "C:\\Users\\adaba\\Anaconda3\\envs\\gl-env\\lib\\site-packages\\scikits\\crab\\recommenders\\knn\\classes.py:538: VisibleDeprecationWarning: boolean index did not match indexed array along dimension 0; dimension is 20 but corresponding boolean dimension is 12\n",
      "  similarities = similarities[~np.isnan(prefs)]\n"
     ]
    }
   ],
   "source": [
    "#recommend item for a user \n",
    "rec_items = recommender.recommend(12)"
   ]
  },
  {
   "cell_type": "code",
   "execution_count": 23,
   "metadata": {
    "collapsed": false
   },
   "outputs": [
    {
     "data": {
      "text/plain": [
       "list"
      ]
     },
     "execution_count": 23,
     "metadata": {},
     "output_type": "execute_result"
    }
   ],
   "source": [
    "# get the type of data returned by the recommender\n",
    "type(rec_items)"
   ]
  },
  {
   "cell_type": "code",
   "execution_count": 24,
   "metadata": {
    "collapsed": false
   },
   "outputs": [
    {
     "data": {
      "text/plain": [
       "67"
      ]
     },
     "execution_count": 24,
     "metadata": {},
     "output_type": "execute_result"
    }
   ],
   "source": [
    "#how many were recmmended for him\n",
    "len(rec_items)"
   ]
  },
  {
   "cell_type": "code",
   "execution_count": 25,
   "metadata": {
    "collapsed": false
   },
   "outputs": [
    {
     "data": {
      "text/plain": [
       "[(6, 4.4714285714285724),\n",
       " (166, 4.0499999999999998),\n",
       " (217, 3.8250000000000002),\n",
       " (160, 2.4000000000000004),\n",
       " (114, 2.4000000000000004),\n",
       " (22, 2.3400000000000003),\n",
       " (175, 2.3200000000000003),\n",
       " (147, 2.3200000000000003),\n",
       " (91, 2.3200000000000003),\n",
       " (5, 2.3200000000000003),\n",
       " (92, 2.2285714285714286),\n",
       " (174, 2.2125000000000004),\n",
       " (99, 2.2125000000000004),\n",
       " (159, 2.166666666666667),\n",
       " (126, 2.166666666666667),\n",
       " (3, 2.166666666666667),\n",
       " (128, 2.1333333333333333),\n",
       " (109, 2.0333333333333332),\n",
       " (216, 2.0),\n",
       " (213, 2.0),\n",
       " (210, 2.0),\n",
       " (202, 2.0),\n",
       " (198, 2.0),\n",
       " (196, 2.0),\n",
       " (186, 2.0),\n",
       " (182, 2.0),\n",
       " (181, 2.0),\n",
       " (168, 2.0),\n",
       " (167, 2.0),\n",
       " (164, 2.0),\n",
       " (152, 2.0),\n",
       " (150, 2.0),\n",
       " (148, 2.0),\n",
       " (131, 2.0),\n",
       " (115, 2.0),\n",
       " (112, 2.0),\n",
       " (110, 2.0),\n",
       " (108, 2.0),\n",
       " (86, 2.0),\n",
       " (84, 2.0),\n",
       " (71, 2.0),\n",
       " (62, 2.0),\n",
       " (41, 2.0),\n",
       " (38, 2.0),\n",
       " (28, 2.0),\n",
       " (119, 1.9624999999999999),\n",
       " (117, 1.9624999999999999),\n",
       " (111, 1.9624999999999999),\n",
       " (89, 1.9624999999999999),\n",
       " (75, 1.9624999999999999),\n",
       " (67, 1.9624999999999999),\n",
       " (49, 1.9624999999999999),\n",
       " (201, 1.9571428571428571),\n",
       " (30, 1.9571428571428571),\n",
       " (13, 1.9571428571428571),\n",
       " (165, 1.9125000000000001),\n",
       " (39, 1.9000000000000004),\n",
       " (184, 1.9000000000000001),\n",
       " (124, 1.8833333333333331),\n",
       " (72, 1.8833333333333331),\n",
       " (59, 1.8833333333333331),\n",
       " (211, 1.7),\n",
       " (154, 1.7),\n",
       " (143, 1.7),\n",
       " (120, 1.7),\n",
       " (113, 1.7),\n",
       " (69, 1.7)]"
      ]
     },
     "execution_count": 25,
     "metadata": {},
     "output_type": "execute_result"
    }
   ],
   "source": [
    "#get all recommended destinations\n",
    "#rec_items"
   ]
  },
  {
   "cell_type": "code",
   "execution_count": 26,
   "metadata": {
    "collapsed": false
   },
   "outputs": [
    {
     "data": {
      "text/plain": [
       "[(6, 4.4714285714285724),\n",
       " (166, 4.0499999999999998),\n",
       " (217, 3.8250000000000002),\n",
       " (160, 2.4000000000000004),\n",
       " (114, 2.4000000000000004)]"
      ]
     },
     "execution_count": 26,
     "metadata": {},
     "output_type": "execute_result"
    }
   ],
   "source": [
    "#get top 5 recommended destinations\n",
    "top5 = rec_items[:5]\n",
    "top5"
   ]
  },
  {
   "cell_type": "code",
   "execution_count": 27,
   "metadata": {
    "collapsed": false
   },
   "outputs": [],
   "source": [
    "#rec_items[:]"
   ]
  },
  {
   "cell_type": "code",
   "execution_count": 28,
   "metadata": {
    "collapsed": false
   },
   "outputs": [
    {
     "data": {
      "text/plain": [
       "'PG'"
      ]
     },
     "execution_count": 28,
     "metadata": {},
     "output_type": "execute_result"
    }
   ],
   "source": [
    "#get a destination names\n",
    "movies.item_ids.get(149)"
   ]
  },
  {
   "cell_type": "code",
   "execution_count": 29,
   "metadata": {
    "collapsed": false
   },
   "outputs": [
    {
     "data": {
      "text/plain": [
       "dict"
      ]
     },
     "execution_count": 29,
     "metadata": {},
     "output_type": "execute_result"
    }
   ],
   "source": [
    "#let's check the type of data the item ids are in\n",
    "type(movies.item_ids)"
   ]
  },
  {
   "cell_type": "code",
   "execution_count": 30,
   "metadata": {
    "collapsed": false
   },
   "outputs": [
    {
     "data": {
      "text/plain": [
       "[6, 166, 217, 160, 114]"
      ]
     },
     "execution_count": 30,
     "metadata": {},
     "output_type": "execute_result"
    }
   ],
   "source": [
    "#get the ids of all recommmended countries\n",
    "rec_count_id = [item[0] for item in top5]\n",
    "rec_count_id"
   ]
  },
  {
   "cell_type": "code",
   "execution_count": 31,
   "metadata": {
    "collapsed": false
   },
   "outputs": [],
   "source": [
    "#lets get the names of the top 5 recommended countries\n",
    "rec_countries = [movies.item_ids[x] for x in rec_count_id]"
   ]
  },
  {
   "cell_type": "code",
   "execution_count": 32,
   "metadata": {
    "collapsed": false
   },
   "outputs": [
    {
     "data": {
      "text/plain": [
       "['VI', 'TH', 'CR', 'US', 'UY']"
      ]
     },
     "execution_count": 32,
     "metadata": {},
     "output_type": "execute_result"
    }
   ],
   "source": [
    "#top five recommended countries\n",
    "rec_countries"
   ]
  },
  {
   "cell_type": "code",
   "execution_count": 33,
   "metadata": {
    "collapsed": true
   },
   "outputs": [],
   "source": [
    "# get top N recommended countries\n",
    "# @user_id : id of the customer to be recommended a product\n",
    "# @n: Number of recommendations to make , with the highest rated recommended products in top\n",
    "\n",
    "def topNRecs(user_id, n):\n",
    "    \n",
    "    #lets ingore the warnings\n",
    "    import warnings\n",
    "    warnings.filterwarnings('ignore')\n",
    "    \n",
    "    rec_items = recommender.recommend(user_id)\n",
    "    \n",
    "    #get top n ids\n",
    "    topN = rec_items[:n]\n",
    "    \n",
    "    #get the ids of all recommmended countries\n",
    "    rec_count_id = [item[0] for item in topN]\n",
    "    \n",
    "    #lets get the names of the top 5 recommended countries\n",
    "    rec_countries = [movies.item_ids[x] for x in rec_count_id]\n",
    "    \n",
    "    return rec_countries\n",
    "    \n",
    "    \n",
    "    "
   ]
  },
  {
   "cell_type": "code",
   "execution_count": 34,
   "metadata": {
    "collapsed": true
   },
   "outputs": [],
   "source": [
    "# get top N recommended countries along with the name of the user\n",
    "# @user_id : id of the customer to be recommended a product\n",
    "# @n: Number of recommendations to make , with the highest rated recommended products in top\n",
    "\n",
    "def topNRecsUser(user_id, n):\n",
    "    \n",
    "    #lets ingore the warnings\n",
    "    import warnings\n",
    "    warnings.filterwarnings('ignore')\n",
    "    \n",
    "    recdit = {}\n",
    "    rec_items = recommender.recommend(user_id)\n",
    "    \n",
    "    #get top n ids\n",
    "    topN = rec_items[:n]\n",
    "    \n",
    "    #get the ids of all recommmended countries\n",
    "    rec_count_id = [item[0] for item in topN]\n",
    "    \n",
    "    #lets get the names of the top 5 recommended countries\n",
    "    rec_countries = [movies.item_ids[x] for x in rec_count_id]\n",
    "    recdit['customer'] = movies.user_ids.get(user_id)\n",
    "    recdit['recommended countries'] = rec_countries\n",
    "    \n",
    "    #recdit[movies.user_ids.get(user_id)] = rec_countries\n",
    "    \n",
    "    return recdit\n",
    "    \n",
    "    \n",
    "    "
   ]
  },
  {
   "cell_type": "code",
   "execution_count": 35,
   "metadata": {
    "collapsed": false
   },
   "outputs": [
    {
     "data": {
      "text/plain": [
       "['VC', 'CR', 'NZ', 'CD', 'VI', 'BD', 'BY', 'BB', 'BZ', 'BE']"
      ]
     },
     "execution_count": 35,
     "metadata": {},
     "output_type": "execute_result"
    }
   ],
   "source": [
    "#lets recommend top 10 destinations for a user\n",
    "topNRecs(8, 10)"
   ]
  },
  {
   "cell_type": "code",
   "execution_count": 36,
   "metadata": {
    "collapsed": true
   },
   "outputs": [],
   "source": [
    "#lets get the total number of recommendations made for a customer\n",
    "def totalRecs(user_id):\n",
    "    import warnings\n",
    "    warnings.filterwarnings('ignore')\n",
    "    \n",
    "    rec_items = recommender.recommend(user_id)\n",
    "    return len(rec_items)\n",
    "    "
   ]
  },
  {
   "cell_type": "code",
   "execution_count": 37,
   "metadata": {
    "collapsed": false
   },
   "outputs": [
    {
     "data": {
      "text/plain": [
       "147"
      ]
     },
     "execution_count": 37,
     "metadata": {},
     "output_type": "execute_result"
    }
   ],
   "source": [
    "#check total number of recommendations for a specified user id\n",
    "totalRecs(102)"
   ]
  },
  {
   "cell_type": "code",
   "execution_count": 38,
   "metadata": {
    "collapsed": true
   },
   "outputs": [],
   "source": [
    "# get all recommended countries\n",
    "# @user_id : id of the customer to be recommended a product\n",
    "# @n: Number of recommendations to make , with the highest rated recommended products in top\n",
    "\n",
    "def allRecs(user_id):\n",
    "    \n",
    "    #lets ingore the warnings\n",
    "    import warnings\n",
    "    warnings.filterwarnings('ignore')\n",
    "    \n",
    "    rec_items = recommender.recommend(user_id)\n",
    "    \n",
    "    #get top n ids\n",
    "    allrec = rec_items[:]\n",
    "    \n",
    "    #get the ids of all recommmended countries\n",
    "    rec_count_id = [item[0] for item in allrec]\n",
    "    \n",
    "    #lets get the names of the top 5 recommended countries\n",
    "    rec_countries = [movies.item_ids[x] for x in rec_count_id]\n",
    "    \n",
    "    return rec_countries"
   ]
  },
  {
   "cell_type": "code",
   "execution_count": 39,
   "metadata": {
    "collapsed": false
   },
   "outputs": [],
   "source": [
    "# check all recommended countries for a specified user id\n",
    "#allRecs(8)"
   ]
  },
  {
   "cell_type": "code",
   "execution_count": 40,
   "metadata": {
    "collapsed": false
   },
   "outputs": [
    {
     "name": "stdout",
     "output_type": "stream",
     "text": [
      "228\n"
     ]
    }
   ],
   "source": [
    "#get the recommender user id of a particular customer by his name\n",
    "print(list(movies.user_ids.keys())[list(movies.user_ids.values()).index('Nana')])"
   ]
  },
  {
   "cell_type": "code",
   "execution_count": 41,
   "metadata": {
    "collapsed": false
   },
   "outputs": [
    {
     "data": {
      "text/plain": [
       "160"
      ]
     },
     "execution_count": 41,
     "metadata": {},
     "output_type": "execute_result"
    }
   ],
   "source": [
    "#lets the user id of  a customer in the recommender system by using his name\n",
    "userid = list(movies.user_ids.keys())[list(movies.user_ids.values()).index('Lewis')]\n",
    "userid"
   ]
  },
  {
   "cell_type": "code",
   "execution_count": 42,
   "metadata": {
    "collapsed": false
   },
   "outputs": [
    {
     "data": {
      "text/plain": [
       "['VC', 'KG', 'CD', 'PE', 'PL']"
      ]
     },
     "execution_count": 42,
     "metadata": {},
     "output_type": "execute_result"
    }
   ],
   "source": [
    "#lets use that userid to get the top 5 recommendations for the customer\n",
    "result = topNRecs(userid, 5)\n",
    "result"
   ]
  },
  {
   "cell_type": "code",
   "execution_count": 43,
   "metadata": {
    "collapsed": false
   },
   "outputs": [],
   "source": [
    "#lets the name of a customer and the top 5 countries recommended to him\n",
    "userRec = topNRecsUser(102,5)"
   ]
  },
  {
   "cell_type": "code",
   "execution_count": 44,
   "metadata": {
    "collapsed": false
   },
   "outputs": [
    {
     "data": {
      "text/plain": [
       "{'customer': 'Jade', 'recommended countries': ['VC', 'CR', 'CD', 'VI', 'BD']}"
      ]
     },
     "execution_count": 44,
     "metadata": {},
     "output_type": "execute_result"
    }
   ],
   "source": [
    "userRec"
   ]
  },
  {
   "cell_type": "code",
   "execution_count": 45,
   "metadata": {
    "collapsed": false
   },
   "outputs": [],
   "source": [
    "#lets save the customer and the recommended countries to a json file\n",
    "import json\n",
    "with open('data.json', 'w') as outfile:\n",
    "    json.dump(userRec, outfile, indent = 4)"
   ]
  },
  {
   "cell_type": "code",
   "execution_count": 51,
   "metadata": {
    "collapsed": false
   },
   "outputs": [],
   "source": [
    "# get top N recommended countries along with the name of the user\n",
    "# @user_id : id of the customer to be recommended a product\n",
    "# @n: Number of recommendations to make , with the highest rated recommended products in top\n",
    "\n",
    "def topNRecsUserName(user_name, n):\n",
    "    try:\n",
    "        int(user_name)\n",
    "        print(\"Please enter a valid String\")\n",
    "    except ValueError:\n",
    "        print(\"Thanks for supplying name\")\n",
    "    #user_id = list(movies.user_ids.keys())[list(movies.user_ids.values()).index(\"'\"+ user_name +\"'\")]\n",
    "    user_id = list(movies.user_ids.keys())[list(movies.user_ids.values()).index(user_name)]\n",
    "    \n",
    "    #lets ingore the warnings\n",
    "    import warnings\n",
    "    warnings.filterwarnings('ignore')\n",
    "    \n",
    "    recdit = {}\n",
    "    rec_items = recommender.recommend(user_id)\n",
    "    \n",
    "    #get top n ids\n",
    "    topN = rec_items[:n]\n",
    "    \n",
    "    #get the ids of all recommmended countries\n",
    "    rec_count_id = [item[0] for item in topN]\n",
    "    \n",
    "    #lets get the names of the top 5 recommended countries\n",
    "    rec_countries = [movies.item_ids[x] for x in rec_count_id]\n",
    "    recdit['customer'] = movies.user_ids.get(user_id)\n",
    "    recdit['recommended countries'] = rec_countries\n",
    "    \n",
    "    #recdit[movies.user_ids.get(user_id)] = rec_countries\n",
    "    \n",
    "    return recdit\n",
    "    \n",
    "    \n",
    "    "
   ]
  },
  {
   "cell_type": "code",
   "execution_count": 58,
   "metadata": {
    "collapsed": false
   },
   "outputs": [
    {
     "name": "stdout",
     "output_type": "stream",
     "text": [
      "Thanks for supplying name\n"
     ]
    },
    {
     "data": {
      "text/plain": [
       "{'customer': 'John', 'recommended countries': ['TH', 'VI', 'CR', 'CD', 'NZ']}"
      ]
     },
     "execution_count": 58,
     "metadata": {},
     "output_type": "execute_result"
    }
   ],
   "source": [
    "topNRecsUserName('John', 5)"
   ]
  },
  {
   "cell_type": "code",
   "execution_count": null,
   "metadata": {
    "collapsed": true
   },
   "outputs": [],
   "source": []
  }
 ],
 "metadata": {
  "kernelspec": {
   "display_name": "Python (gl-env)",
   "language": "python",
   "name": "gl-env"
  },
  "language_info": {
   "codemirror_mode": {
    "name": "ipython",
    "version": 2
   },
   "file_extension": ".py",
   "mimetype": "text/x-python",
   "name": "python",
   "nbconvert_exporter": "python",
   "pygments_lexer": "ipython2",
   "version": "2.7.11"
  }
 },
 "nbformat": 4,
 "nbformat_minor": 0
}
